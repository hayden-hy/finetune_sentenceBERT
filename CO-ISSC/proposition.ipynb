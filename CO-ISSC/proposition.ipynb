{
 "cells": [
  {
   "cell_type": "code",
   "execution_count": null,
   "metadata": {},
   "outputs": [],
   "source": [
    "%%capture\n",
    "from __future__ import annotations\n",
    "\n",
    "# To reload modules on update without restarting the kernel\n",
    "%load_ext autoreload\n",
    "%autoreload 2\n",
    "\n",
    "from helpers import Corpus, Model\n",
    "from sentence_transformers import SentenceTransformer"
   ]
  },
  {
   "cell_type": "code",
   "execution_count": null,
   "metadata": {},
   "outputs": [],
   "source": [
    "core_concepts = {\n",
    "    \"artificial intelligence\" : {\n",
    "        \"ai domain\" : {},\n",
    "        \"ai system\" : {\n",
    "            \"no risk ai system\" : {},\n",
    "            \"high risk ai system\" : {},\n",
    "            \"low risk ai system\" : {},\n",
    "            \"ai system properties\" : {},\n",
    "            \n",
    "        },\n",
    "        \"ai system development process\" : {\n",
    "            \"ai system approach\" : {},\n",
    "            \"ai system quality measure\" : {},\n",
    "            \n",
    "        },\n",
    "    },\n",
    "\n",
    "    \"data\" : {\n",
    "        \"personal data\" : {},\n",
    "        \"anonymous data\" : {},\n",
    "    },\n",
    "\n",
    "    \"organization or person\" : {\n",
    "        \"provider\" : {},\n",
    "        \"user\" : {\n",
    "            \"affected entity\" : {},\n",
    "        },\n",
    "        \"regulator\" : {\n",
    "            \"eu country\" : {},\n",
    "        },\n",
    "    },\n",
    "\n",
    "    \"risk\": {\n",
    "        \"data risk\" : {\n",
    "            \"poisoning risk\" : {},\n",
    "        },\n",
    "        \"system risk\" : {\n",
    "            \"terrorist attack risk\" : {},\n",
    "        },\n",
    "        \"risk management\" : {},\n",
    "    },\n",
    "\n",
    "    \"law\": {\n",
    "        \"regulation\": {\n",
    "            \"right\": {},\n",
    "            \"rule\": {},\n",
    "            \"requirement\": {},\n",
    "            \"obligation\": {},\n",
    "        },\n",
    "        \"law text\": {},\n",
    "        \"authority\": {},\n",
    "    },\n",
    "\n",
    "    \"market\": {\n",
    "        \"product\": {},\n",
    "        \"service\": {},\n",
    "    },\n",
    "\n",
    "    \"other\": {},\n",
    "}"
   ]
  },
  {
   "cell_type": "code",
   "execution_count": null,
   "metadata": {},
   "outputs": [],
   "source": [
    "# Corpus based around top level core concepts\n",
    "corpus = Corpus(\n",
    "    source = r\".\\Data\\IA Regulation Taxonomy.xlsx\",\n",
    "    core_concepts = core_concepts\n",
    ")\n",
    "# corpus = Corpus()"
   ]
  },
  {
   "cell_type": "code",
   "execution_count": null,
   "metadata": {},
   "outputs": [],
   "source": [
    "# corpus.extract_terms_from_pdf(\"Data/EU.pdf\")\n",
    "corpus.extract_terms_from_onto()"
   ]
  },
  {
   "cell_type": "code",
   "execution_count": null,
   "metadata": {},
   "outputs": [],
   "source": [
    "corpus.extract_hyponyms()"
   ]
  },
  {
   "cell_type": "code",
   "execution_count": null,
   "metadata": {},
   "outputs": [],
   "source": [
    "X, y = corpus.get_training_data()"
   ]
  },
  {
   "cell_type": "code",
   "execution_count": null,
   "metadata": {},
   "outputs": [],
   "source": [
    "model = Model(corpus, min_points=4, dimensions=10, clusterer=\"c-dbscan\", reducer=\"umap\")\n",
    "# model = Model(corpus, min_points=4, dimensions=10, classifier=\"svm\", reducer=\"none\")"
   ]
  },
  {
   "cell_type": "code",
   "execution_count": null,
   "metadata": {},
   "outputs": [],
   "source": [
    "y_pred = model.iterate(X, y, 5,verbose=1)\n"
   ]
  },
  {
   "cell_type": "code",
   "execution_count": 9,
   "metadata": {},
   "outputs": [
    {
     "name": "stdout",
     "output_type": "stream",
     "text": [
      "[0 0 0 0 0 0 0 0 0 0 1 1 1 2 2 2 2 2 2 3 3 3 3 3 3 4 4 4 4 4 4 4 4 5 5 5 6\n",
      " 0 0 0 4 1 1 1 0 0 1 1 5 0 2 2 6 1 0 3 0 3 3 4 3 5 5 3 6 6 6 6 5 0 6 0 4 0\n",
      " 0 6 3 2 5 5 5 6 0 6 6 5 6 6 5 2 5 0 2 6 0 0 0 6 5 1 0 6 5 4 1 1 6 0 1 0 1\n",
      " 0 0 0 0 1 0 1 0 3 1 1 1 0 0 1 1 6 1 1 0 4 0 1 1 1 1 1 0 6 0 1 0 1 1 6 0 0\n",
      " 1 0 2 1 6 5 0 3 0 6 6 0 1 1 0 1 1 6 1 5 0 0 0 1 1 1 1 1 1 1 1 1 0 0 0 1 4\n",
      " 5 5 3 4 4 6 6 0 1 0 0 0 0 0 0 0 6 0 0 0 0 1 0 4 0 3 3 6 6 0 0 1 1 6 0 6 1\n",
      " 1 3 1 6 6 4 6 5 1 6 0 0 0 1 4 1 1 2 1 4 4 1 5 1 1 1 1 0 6 1 6 1 0 0 0 0 6\n",
      " 0 1 1 0 1 0 1 6 0 5 1 5 1 6 2 1 0 1 0 1 1 1 6 5 2 1 2 2 2 2 2 5 2 2 2 6 0\n",
      " 0 0 2 2 2 0 6 6 5 5 3 2 6 2 2 2 6 2 3 2 2 1 2 1 6 5 5 2 4 2 3 2 2 4 2 4 4\n",
      " 2 2 2 4 2 4 1 2 4 2 2 2 2 4 3 2 4 4 2 2 2 6 4 6 4 2 4 2 2 2 2 6 2 2 6 3 5\n",
      " 2 5 1 2 5 1 0 0 0 0 5 2 3 3 3 3 3 3 3 3 3 0 3 3 3 3 2 6 4 6 3 6 3 4 1 3 3\n",
      " 3 3 2 3 3 3 3 3 0 3 4 4 3 3 3 3 3 3 3 3 4 3 6 3 3 3 6 3 3 6 3 3 3 3 3 6 3\n",
      " 3 3 3 1 3 3 3 1 4 6 3 4 6 3 3 3 0 1 4 1 4 3 4 2 4 6 3 3 3 1 5 6 4 0 1 6 1\n",
      " 3 0 3 3 6 6 3 1 3 6 2 3 2 3 1 3 0 3 6 1 3 4 4 2 4 2 0 4 2 6 2 2 4 6 2 2 0\n",
      " 4 2 4 4 2 2 2 6 4 6 2 5 3 4 2 2 4 4 4 2 2 6 2 1 6 1 4 2 4 4 2 6 0 4 4 4 4\n",
      " 4 4 3 4 4 4 1 5 4 5 6 3 6 2 4 3 4 3 4 4 4 4 2 4 3 4 4 4 3 3 1 1 5 5 5 1 4\n",
      " 2 4 6 2 4 4 4 1 4 4 4 0 6 3 3 4 6 4 6 5 6 3 3 4 1 6 6 4 4 4 6 6 6 5 3 3 4\n",
      " 1 3 2 3 4 6 1 4 4 4 4 3 3 3 3 3 6 3 1 4 4 4 4 1 6 4 0 0 4 4 4 3 2 3 1 5 0\n",
      " 0 2 4 3 4 4 3 3 5 3 6 3 4 5 4 4 1 5 5 6 6 6 3 3 6 4 3 4 4 4 4 4 6 4 3 4 4\n",
      " 6 5 2 2 5 2 5 2 5 2 2 5 1 5 6 2 5 1 5 5 1 5 4 2 2 6 3 1 4 2 3 3 1 2 1 5 5\n",
      " 1 5 5 6 2 1 0 5 6 2 3 6 2 1 5 6 0 6 2 5 0 5 4 1 1 6 2 4 6 1 6 3 5 1 6 0 2\n",
      " 6 6 3 3 6 6 1 6 1 6 1 2 4 6 6 6 4 5 2 6 6 6 0 6 6 5 5 3 6 6 6 5 2 6 6 0 5\n",
      " 1 1 5 5 2 6 1 3 1 6 1 0 6 6 2 1 2 6 5 0 5 5 6 5 6 6 5 6 4 6 1 1 1 6 6 6 6\n",
      " 4 2 1 5 0 0 1 5 4 4 6 6 6 6 6 5 2 6 2 1 4 2 4 4 5 3 4 4 4 4 5 1 2 4 4 4 4\n",
      " 4 4 4 5 4 2 1 1 4 4 4 4 3 4 4 4 2 4 4 4 3 3 4 4 4 4 4 4 2 4 2 5 5 1 1 3 0\n",
      " 6 2 4 4 4 0 1 4 6 0 6]\n"
     ]
    }
   ],
   "source": [
    "print(y_pred)"
   ]
  },
  {
   "cell_type": "code",
   "execution_count": null,
   "metadata": {},
   "outputs": [],
   "source": []
  }
 ],
 "metadata": {
  "kernelspec": {
   "display_name": "Python 3 (ipykernel)",
   "language": "python",
   "name": "python3"
  },
  "language_info": {
   "codemirror_mode": {
    "name": "ipython",
    "version": 3
   },
   "file_extension": ".py",
   "mimetype": "text/x-python",
   "name": "python",
   "nbconvert_exporter": "python",
   "pygments_lexer": "ipython3",
   "version": "3.9.7"
  },
  "vscode": {
   "interpreter": {
    "hash": "e5ac93840fc31c620a87a38d85174b6507bac1344a14f5a23c75aebf5e7af2a8"
   }
  }
 },
 "nbformat": 4,
 "nbformat_minor": 2
}
