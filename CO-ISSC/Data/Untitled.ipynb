{
 "cells": [
  {
   "cell_type": "code",
   "execution_count": 15,
   "id": "bce140cd",
   "metadata": {},
   "outputs": [],
   "source": [
    "import torch"
   ]
  },
  {
   "cell_type": "code",
   "execution_count": 20,
   "id": "22a50258",
   "metadata": {},
   "outputs": [],
   "source": [
    "def batch_norm(x):\n",
    "    mean = x.mean(0, keepdim=True)\n",
    "    var = x.var(0, unbiased=False, keepdim=True)\n",
    "    x_norm = (x - mean) / (var + 1e-5).sqrt()\n",
    "    return x_norm"
   ]
  },
  {
   "cell_type": "code",
   "execution_count": 30,
   "id": "55d512d0",
   "metadata": {},
   "outputs": [],
   "source": [
    "x = torch.arange(5*3*10*10).type(torch.float32).reshape(5,3,10,10)"
   ]
  },
  {
   "cell_type": "code",
   "execution_count": null,
   "id": "b834e03a",
   "metadata": {},
   "outputs": [],
   "source": []
  },
  {
   "cell_type": "code",
   "execution_count": 54,
   "id": "518a052b",
   "metadata": {},
   "outputs": [
    {
     "data": {
      "text/plain": [
       "torch.Size([5, 3, 10, 10])"
      ]
     },
     "execution_count": 54,
     "metadata": {},
     "output_type": "execute_result"
    }
   ],
   "source": [
    "batch_norm(x).shape"
   ]
  },
  {
   "cell_type": "code",
   "execution_count": 53,
   "id": "d76780a7",
   "metadata": {},
   "outputs": [
    {
     "data": {
      "text/plain": [
       "torch.Size([1, 3, 10, 10])"
      ]
     },
     "execution_count": 53,
     "metadata": {},
     "output_type": "execute_result"
    }
   ],
   "source": [
    "x.mean(0,keepdim=True).shape"
   ]
  },
  {
   "cell_type": "code",
   "execution_count": 55,
   "id": "e01a5bd9",
   "metadata": {},
   "outputs": [
    {
     "data": {
      "text/plain": [
       "torch.Size([1, 3, 10, 10])"
      ]
     },
     "execution_count": 55,
     "metadata": {},
     "output_type": "execute_result"
    }
   ],
   "source": [
    "x.var(0, unbiased=False, keepdim=True).shape"
   ]
  },
  {
   "cell_type": "code",
   "execution_count": null,
   "id": "3cc93582",
   "metadata": {},
   "outputs": [],
   "source": []
  }
 ],
 "metadata": {
  "kernelspec": {
   "display_name": "Python 3 (ipykernel)",
   "language": "python",
   "name": "python3"
  },
  "language_info": {
   "codemirror_mode": {
    "name": "ipython",
    "version": 3
   },
   "file_extension": ".py",
   "mimetype": "text/x-python",
   "name": "python",
   "nbconvert_exporter": "python",
   "pygments_lexer": "ipython3",
   "version": "3.9.7"
  }
 },
 "nbformat": 4,
 "nbformat_minor": 5
}
